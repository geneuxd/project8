{
 "cells": [
  {
   "cell_type": "code",
   "execution_count": 1,
   "id": "d25d4f94-1d66-4549-8143-66a10aca3181",
   "metadata": {},
   "outputs": [],
   "source": [
    "from google.cloud import bigquery\n",
    "bq = bigquery.Client()"
   ]
  },
  {
   "cell_type": "code",
   "execution_count": 2,
   "id": "084b877a-3acd-42de-ad9c-93a4cf6b369f",
   "metadata": {},
   "outputs": [
    {
     "data": {
      "text/html": [
       "<div>\n",
       "<style scoped>\n",
       "    .dataframe tbody tr th:only-of-type {\n",
       "        vertical-align: middle;\n",
       "    }\n",
       "\n",
       "    .dataframe tbody tr th {\n",
       "        vertical-align: top;\n",
       "    }\n",
       "\n",
       "    .dataframe thead th {\n",
       "        text-align: right;\n",
       "    }\n",
       "</style>\n",
       "<table border=\"1\" class=\"dataframe\">\n",
       "  <thead>\n",
       "    <tr style=\"text-align: right;\">\n",
       "      <th></th>\n",
       "      <th>num_rows</th>\n",
       "    </tr>\n",
       "  </thead>\n",
       "  <tbody>\n",
       "    <tr>\n",
       "      <th>0</th>\n",
       "      <td>3233</td>\n",
       "    </tr>\n",
       "  </tbody>\n",
       "</table>\n",
       "</div>"
      ],
      "text/plain": [
       "   num_rows\n",
       "0      3233"
      ]
     },
     "execution_count": 2,
     "metadata": {},
     "output_type": "execute_result"
    }
   ],
   "source": [
    "q = bq.query(\n",
    "\"\"\"\n",
    "select count(*) as num_rows \n",
    "from bigquery-public-data.geo_us_boundaries.counties\n",
    "\"\"\")\n",
    "q.to_dataframe()"
   ]
  },
  {
   "cell_type": "code",
   "execution_count": 3,
   "id": "1b0f50af-a0e1-46b9-8242-8d0a6c90c31e",
   "metadata": {},
   "outputs": [
    {
     "data": {
      "text/plain": [
       "'55025'"
      ]
     },
     "execution_count": 3,
     "metadata": {},
     "output_type": "execute_result"
    }
   ],
   "source": [
    "#Q1\n",
    "q1 = bq.query(\n",
    "\"\"\"\n",
    "select geo_id\n",
    "from bigquery-public-data.geo_us_boundaries.counties\n",
    "where county_name = 'Dane'\n",
    "\"\"\")\n",
    "q1 = q1.to_dataframe()\n",
    "for name in q1[\"geo_id\"]:\n",
    "    id = name\n",
    "id"
   ]
  },
  {
   "cell_type": "code",
   "execution_count": 4,
   "id": "4df2d314-6cf4-42b1-a4fd-3698eaab0947",
   "metadata": {},
   "outputs": [
    {
     "data": {
      "text/plain": [
       "{'48': 254, '13': 159, '51': 133, '21': 120, '29': 115}"
      ]
     },
     "execution_count": 4,
     "metadata": {},
     "output_type": "execute_result"
    }
   ],
   "source": [
    "#q2\n",
    "\n",
    "q2 = bq.query(\n",
    "\"\"\"\n",
    "select state_fips_code, count(*) as num_counties\n",
    "from bigquery-public-data.geo_us_boundaries.counties\n",
    "GROUP BY state_fips_code\n",
    "order by num_counties DESC\n",
    "limit 5\n",
    "\"\"\")\n",
    "q2 = q2.to_dataframe()\n",
    "q2_dict = {}\n",
    "for name,num in zip(q2[\"state_fips_code\"],q2[\"num_counties\"]):\n",
    "    q2_dict[name] = num\n",
    "q2_dict"
   ]
  },
  {
   "cell_type": "code",
   "execution_count": 5,
   "id": "0d070d45-1e58-4a31-b74e-a1f640ac2df5",
   "metadata": {},
   "outputs": [],
   "source": [
    "no_cache = bigquery.QueryJobConfig(use_query_cache=False)"
   ]
  },
  {
   "cell_type": "code",
   "execution_count": 6,
   "id": "d675067f-124f-42d9-bbb6-f2f48378c509",
   "metadata": {},
   "outputs": [
    {
     "data": {
      "text/plain": [
       "{'q1': 5.9604644775390625e-05, 'q2': 5.9604644775390625e-05}"
      ]
     },
     "execution_count": 6,
     "metadata": {},
     "output_type": "execute_result"
    }
   ],
   "source": [
    "#q3\n",
    "tb = 1024 **4\n",
    "q1 = bq.query(\n",
    "\"\"\"\n",
    "select geo_id\n",
    "from bigquery-public-data.geo_us_boundaries.counties\n",
    "where county_name = 'Dane'\n",
    "\"\"\", job_config = no_cache)\n",
    "q2 = bq.query(\n",
    "\"\"\"\n",
    "select state_fips_code, count(*) as num_counties\n",
    "from bigquery-public-data.geo_us_boundaries.counties\n",
    "GROUP BY state_fips_code\n",
    "order by num_counties DESC\n",
    "limit 5\n",
    "\"\"\",job_config = no_cache)\n",
    "\n",
    "\n",
    "q1_cost = q1.total_bytes_billed / tb * 6.25\n",
    "q2_cost = q2.total_bytes_billed / tb * 6.25\n",
    "\n",
    "{\"q1\": q1_cost, \"q2\": q2_cost}"
   ]
  },
  {
   "cell_type": "code",
   "execution_count": 7,
   "id": "407803dc-ec97-40cc-99d7-1369c0cfb7fe",
   "metadata": {},
   "outputs": [
    {
     "data": {
      "text/plain": [
       "Dataset(DatasetReference('operating-pact-398418', 'p8'))"
      ]
     },
     "execution_count": 7,
     "metadata": {},
     "output_type": "execute_result"
    }
   ],
   "source": [
    "ds = bigquery.Dataset(\"operating-pact-398418.p8\")\n",
    "bq.create_dataset(ds,exists_ok=True)"
   ]
  },
  {
   "cell_type": "code",
   "execution_count": 8,
   "id": "e635355c-cc19-4885-9ec5-19f37e8f8cc6",
   "metadata": {},
   "outputs": [
    {
     "data": {
      "text/plain": [
       "LoadJob<project=operating-pact-398418, location=US, id=13d263e8-2ebe-4f4f-b4fd-69675a5854ea>"
      ]
     },
     "execution_count": 8,
     "metadata": {},
     "output_type": "execute_result"
    }
   ],
   "source": [
    "config = bigquery.LoadJobConfig(source_format=\"PARQUET\", write_disposition=\"WRITE_TRUNCATE\")\n",
    "source = \"gs://cs544_p8_lol/hdma-wi-2021.parquet\"\n",
    "job = bq.load_table_from_uri(source, \"operating-pact-398418.p8.hdma\", job_config=config)\n",
    "job.result()"
   ]
  },
  {
   "cell_type": "code",
   "execution_count": 9,
   "id": "93903783-e45e-43aa-be95-a7ea413ab46d",
   "metadata": {},
   "outputs": [
    {
     "data": {
      "text/plain": [
       "['p8']"
      ]
     },
     "execution_count": 9,
     "metadata": {},
     "output_type": "execute_result"
    }
   ],
   "source": [
    "#q4\n",
    "[ds.dataset_id for ds in bq.list_datasets(\"operating-pact-398418\")]"
   ]
  },
  {
   "cell_type": "code",
   "execution_count": 10,
   "id": "caace482-40fa-446d-b1cd-23dcfa69ef8d",
   "metadata": {},
   "outputs": [
    {
     "data": {
      "text/plain": [
       "{'Milwaukee': 46570,\n",
       " 'Dane': 38557,\n",
       " 'Waukesha': 34159,\n",
       " 'Brown': 15615,\n",
       " 'Racine': 13007,\n",
       " 'Outagamie': 11523,\n",
       " 'Kenosha': 10744,\n",
       " 'Washington': 10726,\n",
       " 'Rock': 9834,\n",
       " 'Winnebago': 9310}"
      ]
     },
     "execution_count": 10,
     "metadata": {},
     "output_type": "execute_result"
    }
   ],
   "source": [
    "#q5\n",
    "q5 = bq.query(\n",
    "\"\"\"\n",
    "SELECT counties.county_name, COUNT(*) as count\n",
    "FROM operating-pact-398418.p8.hdma as hdma\n",
    "JOIN bigquery-public-data.geo_us_boundaries.counties as counties\n",
    "ON hdma.county_code = counties.county_fips_code\n",
    "GROUP BY counties.county_name\n",
    "ORDER BY count DESC\n",
    "LIMIT 10;\n",
    "\n",
    "\"\"\")\n",
    "q5_dict = {row['county_name']: row['count'] for row in q5.to_dataframe().to_dict(orient='records')}\n",
    "q5_dict"
   ]
  },
  {
   "cell_type": "code",
   "execution_count": 11,
   "id": "fe35b5f0-25f6-4c95-b144-68a58f77edaa",
   "metadata": {},
   "outputs": [],
   "source": [
    "url = \"https://docs.google.com/spreadsheets/d/11UeIBqQylAyNUBsIO54p6WiYJWHayQMfHDbUWq1jGco/\"\n",
    "\n",
    "external_config = bigquery.ExternalConfig(\"GOOGLE_SHEETS\")\n",
    "external_config.source_uris = [\"https://docs.google.com/spreadsheets/d/11UeIBqQylAyNUBsIO54p6WiYJWHayQMfHDbUWq1jGco/\"]\n",
    "external_config.options.skip_leading_rows = 1\n",
    "external_config.autodetect = True\n",
    "\n",
    "table = bigquery.Table(\"operating-pact-398418.p8.applications\")\n",
    "table.external_data_configuration = external_config\n",
    "\n",
    "table = bq.create_table(table, exists_ok=True)"
   ]
  },
  {
   "cell_type": "code",
   "execution_count": 12,
   "id": "c1076ac0-106f-4821-82c1-c443674fcf40",
   "metadata": {},
   "outputs": [
    {
     "data": {
      "text/plain": [
       "37"
      ]
     },
     "execution_count": 12,
     "metadata": {},
     "output_type": "execute_result"
    }
   ],
   "source": [
    "#q6\n",
    "q6 = bq.query(\n",
    "\"\"\"\n",
    "SELECT count(*)\n",
    "FROM operating-pact-398418.p8.applications\n",
    "WHERE income = 100000\n",
    "\"\"\")\n",
    "q6.to_dataframe().iloc[0, 0]"
   ]
  },
  {
   "cell_type": "code",
   "execution_count": 13,
   "id": "b15539ab-379f-47c1-8d4a-2a86bbd52e19",
   "metadata": {},
   "outputs": [
    {
     "data": {
      "text/plain": [
       "{'Dane': 67,\n",
       " 'Door': 19,\n",
       " 'Oneida': 3,\n",
       " 'Jefferson': 2,\n",
       " 'Brown': 6,\n",
       " 'Chippewa': 1,\n",
       " 'Kenosha': 1,\n",
       " 'Monroe': 2,\n",
       " 'Winnebago': 3,\n",
       " 'Eau Claire': 1,\n",
       " 'Bayfield': 5,\n",
       " 'Milwaukee': 4,\n",
       " 'Sheboygan': 5,\n",
       " 'Walworth': 4,\n",
       " 'Ashland': 2,\n",
       " 'Kewaunee': 3,\n",
       " 'Crawford': 1,\n",
       " 'Columbia': 4,\n",
       " 'Marinette': 2,\n",
       " 'Green Lake': 2,\n",
       " 'Douglas': 1,\n",
       " 'Wood': 2,\n",
       " 'Manitowoc': 1,\n",
       " 'Iowa': 1,\n",
       " 'Barron': 2,\n",
       " 'Outagamie': 1,\n",
       " 'Ozaukee': 1,\n",
       " 'Sauk': 2,\n",
       " 'St. Croix': 1,\n",
       " 'Adams': 1,\n",
       " 'Dodge': 1,\n",
       " 'Marathon': 1,\n",
       " 'Polk': 1}"
      ]
     },
     "execution_count": 13,
     "metadata": {},
     "output_type": "execute_result"
    }
   ],
   "source": [
    "#q7\n",
    "q7 = bq.query(\n",
    "\"\"\"\n",
    "SELECT counties.county_name as county_name, COUNT(*) as county_count\n",
    "FROM bigquery-public-data.geo_us_boundaries.counties AS counties\n",
    "JOIN operating-pact-398418.p8.applications AS applications\n",
    "ON ST_CONTAINS(counties.county_geom, ST_GEOGPOINT(applications.longitude, applications.latitude))\n",
    "WHERE counties.state_fips_code = '55'\n",
    "GROUP BY counties.county_name\n",
    "\"\"\"\n",
    ")\n",
    "q7 = q7.to_dataframe()\n",
    "q7_dict = {}\n",
    "for name,num in zip(q7[\"county_name\"],q7[\"county_count\"]):\n",
    "    q7_dict[name] = num\n",
    "q7_dict"
   ]
  },
  {
   "cell_type": "code",
   "execution_count": 14,
   "id": "c4bd3d45-eccc-4150-8f03-edce8de4c8c5",
   "metadata": {},
   "outputs": [],
   "source": [
    "%load_ext google.cloud.bigquery"
   ]
  },
  {
   "cell_type": "code",
   "execution_count": 15,
   "id": "85050476-7ca6-4be0-87d1-de3df582f30d",
   "metadata": {},
   "outputs": [
    {
     "data": {
      "application/vnd.jupyter.widget-view+json": {
       "model_id": "9b6b0921653b4f91b583d674425ef9f3",
       "version_major": 2,
       "version_minor": 0
      },
      "text/plain": [
       "Query is running:   0%|          |"
      ]
     },
     "metadata": {},
     "output_type": "display_data"
    },
    {
     "data": {
      "text/html": [
       "<div>\n",
       "<style scoped>\n",
       "    .dataframe tbody tr th:only-of-type {\n",
       "        vertical-align: middle;\n",
       "    }\n",
       "\n",
       "    .dataframe tbody tr th {\n",
       "        vertical-align: top;\n",
       "    }\n",
       "\n",
       "    .dataframe thead th {\n",
       "        text-align: right;\n",
       "    }\n",
       "</style>\n",
       "<table border=\"1\" class=\"dataframe\">\n",
       "  <thead>\n",
       "    <tr style=\"text-align: right;\">\n",
       "      <th></th>\n",
       "    </tr>\n",
       "  </thead>\n",
       "  <tbody>\n",
       "  </tbody>\n",
       "</table>\n",
       "</div>"
      ],
      "text/plain": [
       "Empty DataFrame\n",
       "Columns: []\n",
       "Index: []"
      ]
     },
     "execution_count": 15,
     "metadata": {},
     "output_type": "execute_result"
    }
   ],
   "source": [
    "%%bigquery\n",
    "CREATE OR REPLACE MODEL `operating-pact-398418.p8.lr`\n",
    "OPTIONS(model_type=\"LINEAR_REG\", INPUT_LABEL_COLS=[\"loan_amount\"])\n",
    "\n",
    "AS\n",
    "\n",
    "SELECT income, loan_term, loan_amount\n",
    "FROM p8.hdma"
   ]
  },
  {
   "cell_type": "code",
   "execution_count": 16,
   "id": "0f59c9d1-d4ff-495e-a7ee-a3f273442c80",
   "metadata": {},
   "outputs": [
    {
     "name": "stdout",
     "output_type": "stream",
     "text": [
      "['lr']\n"
     ]
    }
   ],
   "source": [
    "import time\n",
    "client = bigquery.Client(project='operating-pact-398418')\n",
    "model_name = 'lr'\n",
    "def model_exists():\n",
    "    models = list(client.list_models('p8'))\n",
    "    model_ids = [model.model_id for model in models]\n",
    "    print(model_ids)\n",
    "    return model_name in model_ids\n",
    "\n",
    "while True:\n",
    "    if model_exists():\n",
    "        break\n",
    "    # debug statement\n",
    "    print(\"Waiting for model\")\n",
    "    time.sleep(5)"
   ]
  },
  {
   "cell_type": "code",
   "execution_count": 17,
   "id": "73548d19-e710-4e9e-895c-aff9e1cf79cf",
   "metadata": {},
   "outputs": [
    {
     "data": {
      "application/vnd.jupyter.widget-view+json": {
       "model_id": "5c55ab4ecedf4bb0a23021ccda4cc8ce",
       "version_major": 2,
       "version_minor": 0
      },
      "text/plain": [
       "Query is running:   0%|          |"
      ]
     },
     "metadata": {},
     "output_type": "display_data"
    },
    {
     "data": {
      "application/vnd.jupyter.widget-view+json": {
       "model_id": "c29bd6cabff94b408e26ce4eecc06e9d",
       "version_major": 2,
       "version_minor": 0
      },
      "text/plain": [
       "Downloading:   0%|          |"
      ]
     },
     "metadata": {},
     "output_type": "display_data"
    }
   ],
   "source": [
    "%%bigquery df\n",
    "SELECT *\n",
    "FROM ML.EVALUATE(MODEL `operating-pact-398418.p8.lr`, (\n",
    "    SELECT income, loan_term, loan_amount\n",
    "    FROM p8.hdma\n",
    "))"
   ]
  },
  {
   "cell_type": "code",
   "execution_count": 18,
   "id": "5a7544a5-e705-47b6-899e-2ff76b1c6beb",
   "metadata": {},
   "outputs": [
    {
     "data": {
      "text/plain": [
       "0.291654122880196"
      ]
     },
     "execution_count": 18,
     "metadata": {},
     "output_type": "execute_result"
    }
   ],
   "source": [
    "#q8\n",
    "df.at[0, \"r2_score\"]"
   ]
  },
  {
   "cell_type": "code",
   "execution_count": 19,
   "id": "06026adc-7ec3-4b23-853f-66111f91757d",
   "metadata": {},
   "outputs": [
    {
     "data": {
      "application/vnd.jupyter.widget-view+json": {
       "model_id": "a3be27130b1744008d8c8d31edee7758",
       "version_major": 2,
       "version_minor": 0
      },
      "text/plain": [
       "Query is running:   0%|          |"
      ]
     },
     "metadata": {},
     "output_type": "display_data"
    },
    {
     "data": {
      "application/vnd.jupyter.widget-view+json": {
       "model_id": "895062f905c744f9add2e472d81bee09",
       "version_major": 2,
       "version_minor": 0
      },
      "text/plain": [
       "Downloading:   0%|          |"
      ]
     },
     "metadata": {},
     "output_type": "display_data"
    }
   ],
   "source": [
    "%%bigquery df2\n",
    "SELECT *\n",
    "FROM ML.WEIGHTS(MODEL `operating-pact-398418.p8.lr`)"
   ]
  },
  {
   "cell_type": "code",
   "execution_count": 20,
   "id": "aec63e6d-e6dd-45d7-bd90-79fb41ad5ceb",
   "metadata": {},
   "outputs": [
    {
     "data": {
      "text/plain": [
       "0.8057773037176723"
      ]
     },
     "execution_count": 20,
     "metadata": {},
     "output_type": "execute_result"
    }
   ],
   "source": [
    "#q9\n",
    "df2.at[0, \"weight\"]"
   ]
  },
  {
   "cell_type": "code",
   "execution_count": 21,
   "id": "c27da2e9-ecdc-42bc-bec4-55776e73585c",
   "metadata": {},
   "outputs": [
    {
     "data": {
      "application/vnd.jupyter.widget-view+json": {
       "model_id": "2f6ad34fdb234c098f1634c1622d51a7",
       "version_major": 2,
       "version_minor": 0
      },
      "text/plain": [
       "Query is running:   0%|          |"
      ]
     },
     "metadata": {},
     "output_type": "display_data"
    },
    {
     "data": {
      "application/vnd.jupyter.widget-view+json": {
       "model_id": "f1b78ca902674037a1b5bc5e8f8d1131",
       "version_major": 2,
       "version_minor": 0
      },
      "text/plain": [
       "Downloading:   0%|          |"
      ]
     },
     "metadata": {},
     "output_type": "display_data"
    }
   ],
   "source": [
    "%%bigquery df3\n",
    "SELECT COUNTIF(predicted_loan_amount > loan_amount) / COUNT(*) AS ratio_greater_than_predicted\n",
    "FROM ML.PREDICT(MODEL `operating-pact-398418.p8.lr`, (\n",
    "    SELECT income, 360 as loan_term, loan_amount\n",
    "    FROM p8.applications\n",
    "))"
   ]
  },
  {
   "cell_type": "code",
   "execution_count": 22,
   "id": "8b5699ed-07f5-403f-9a40-d3b849f1659b",
   "metadata": {},
   "outputs": [
    {
     "data": {
      "text/plain": [
       "0.3937007874015748"
      ]
     },
     "execution_count": 22,
     "metadata": {},
     "output_type": "execute_result"
    }
   ],
   "source": [
    "#q10\n",
    "df3.at[0, \"ratio_greater_than_predicted\"]"
   ]
  }
 ],
 "metadata": {
  "kernelspec": {
   "display_name": "Python 3 (ipykernel)",
   "language": "python",
   "name": "python3"
  },
  "language_info": {
   "codemirror_mode": {
    "name": "ipython",
    "version": 3
   },
   "file_extension": ".py",
   "mimetype": "text/x-python",
   "name": "python",
   "nbconvert_exporter": "python",
   "pygments_lexer": "ipython3",
   "version": "3.10.12"
  }
 },
 "nbformat": 4,
 "nbformat_minor": 5
}
